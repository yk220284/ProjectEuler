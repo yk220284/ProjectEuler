{
 "cells": [
  {
   "cell_type": "code",
   "execution_count": 1,
   "metadata": {},
   "outputs": [],
   "source": [
    "import itertools"
   ]
  },
  {
   "cell_type": "code",
   "execution_count": 2,
   "metadata": {},
   "outputs": [],
   "source": [
    "from math import ceil\n",
    "from math import sqrt"
   ]
  },
  {
   "cell_type": "code",
   "execution_count": 12,
   "metadata": {},
   "outputs": [],
   "source": [
    "def oddplist(n):    \n",
    "    plist = []\n",
    "\n",
    "    si = [True]*ceil(n/2)\n",
    "    si[0] = False\n",
    "    i = 1\n",
    "    while (2*i+1)<=sqrt(n):\n",
    "        if si[i]:    \n",
    "            x = 2*i*(i+1)\n",
    "            y = (2*i+1)\n",
    "\n",
    "\n",
    "            temp = x\n",
    "            while temp < len(si):\n",
    "                si[temp] = False\n",
    "                temp += y\n",
    "        i += 1\n",
    "\n",
    "    \n",
    "\n",
    "    for i in range(1,len(si)):\n",
    "        if si[i]:\n",
    "            plist.append(i*2+1)\n",
    "    return plist\n",
    "\n",
    "\n",
    "\n",
    "\n"
   ]
  },
  {
   "cell_type": "code",
   "execution_count": 20,
   "metadata": {},
   "outputs": [
    {
     "data": {
      "text/plain": [
       "[3,\n",
       " 5,\n",
       " 7,\n",
       " 11,\n",
       " 13,\n",
       " 17,\n",
       " 19,\n",
       " 23,\n",
       " 29,\n",
       " 31,\n",
       " 37,\n",
       " 41,\n",
       " 43,\n",
       " 47,\n",
       " 53,\n",
       " 59,\n",
       " 61,\n",
       " 67,\n",
       " 71,\n",
       " 73,\n",
       " 79,\n",
       " 83,\n",
       " 89,\n",
       " 97]"
      ]
     },
     "execution_count": 20,
     "metadata": {},
     "output_type": "execute_result"
    }
   ],
   "source": [
    "oddplist(100)"
   ]
  },
  {
   "cell_type": "code",
   "execution_count": 21,
   "metadata": {},
   "outputs": [],
   "source": [
    "\n",
    "def fp(n):\n",
    "    factor = []\n",
    "    power = []\n",
    "    oddp = []\n",
    "    \n",
    "    \n",
    "    if n%2 == 0:\n",
    "        factor.append(2)\n",
    "        temp = 0\n",
    "        while n%2 == 0:\n",
    "            n/=2\n",
    "            temp += 1\n",
    "        power.append(temp)\n",
    "    \n",
    "   \n",
    "    oddp = oddplist(n)\n",
    "    for k in oddp:\n",
    "        \n",
    "        if n%k == 0:\n",
    "            factor.append(k)\n",
    "            temp = 0\n",
    "            while n%k == 0:\n",
    "                n /= k\n",
    "                temp += 1\n",
    "            power.append(temp)\n",
    "            \n",
    "    if n > 1:\n",
    "        factor.append(n)\n",
    "        power.append(1)\n",
    "        \n",
    "    \"\"\"while len(factor) < 5:\n",
    "        factor.append(1)\n",
    "    while len(power) < 5:\n",
    "        power.append(-1)\"\"\"\n",
    "    return factor,power\n",
    "        \n",
    "        "
   ]
  },
  {
   "cell_type": "code",
   "execution_count": 26,
   "metadata": {},
   "outputs": [
    {
     "name": "stdout",
     "output_type": "stream",
     "text": [
      "[2, 5, 7]\n",
      "[1, 1, 1]\n"
     ]
    }
   ],
   "source": [
    "f,p = fp(70)\n",
    "print(f)\n",
    "print(p)"
   ]
  },
  {
   "cell_type": "markdown",
   "metadata": {},
   "source": [
    "temp =[]\n",
    "factor,power = fp(220)\n",
    "print(factor)\n",
    "print(power)\n",
    "for i in itertools.product(range(power[0]+1),range(power[1]+1),range(power[2]+1)):\n",
    "    print(i)\n",
    "    j = 0    \n",
    "    fac = 1\n",
    "    while j < len(factor):\n",
    "        fac *= factor[j]**i[j]\n",
    "        j += 1\n",
    "    temp.append(fac)\n",
    "print(temp)"
   ]
  },
  {
   "cell_type": "code",
   "execution_count": 27,
   "metadata": {},
   "outputs": [
    {
     "name": "stdout",
     "output_type": "stream",
     "text": [
      "[2, 7] [2, 1]\n"
     ]
    }
   ],
   "source": [
    "a,b = fp(28)\n",
    "print(a,b)"
   ]
  },
  {
   "cell_type": "code",
   "execution_count": 45,
   "metadata": {},
   "outputs": [],
   "source": [
    "def friend(n):\n",
    "    factor,power = fp(n)\n",
    "    temp = []\n",
    "    length = len(factor)\n",
    "    if length == 1:\n",
    "        temp = []\n",
    "        for i in itertools.product(range(power[0]+1)):\n",
    "            j = 0    \n",
    "            fac = 1\n",
    "            while j < length:\n",
    "                fac *= factor[j]**i[j]\n",
    "                j += 1\n",
    "            temp.append(fac)\n",
    "        \n",
    "    if length == 2:\n",
    "        temp = []\n",
    "        for i in itertools.product(range(power[0]+1),range(power[1]+1)):\n",
    "            j = 0    \n",
    "            fac = 1\n",
    "            while j < length:\n",
    "                fac *= factor[j]**i[j]\n",
    "                j += 1\n",
    "            temp.append(fac)\n",
    "        \n",
    "    if length == 3:\n",
    "        temp = []\n",
    "        for i in itertools.product(range(power[0]+1),range(power[1]+1),range(power[2]+1)):\n",
    "            j = 0    \n",
    "            fac = 1\n",
    "            while j < length:\n",
    "                fac *= factor[j]**i[j]\n",
    "                j += 1\n",
    "            temp.append(fac)\n",
    "    \n",
    "    if length == 4:\n",
    "        temp = []\n",
    "        for i in itertools.product(range(power[0]+1),range(power[1]+1),range(power[2]+1),range(power[3]+1)):\n",
    "            j = 0    \n",
    "            fac = 1\n",
    "            while j < length:\n",
    "                fac *= factor[j]**i[j]\n",
    "                j += 1\n",
    "            temp.append(fac)\n",
    "\n",
    "    \n",
    "    return int(sum(temp)-n)\n",
    "    \n",
    "    \n",
    "    \n",
    "    \n",
    "    \n",
    "   "
   ]
  },
  {
   "cell_type": "code",
   "execution_count": 43,
   "metadata": {
    "scrolled": false
   },
   "outputs": [
    {
     "name": "stdout",
     "output_type": "stream",
     "text": [
      "[284, 220, 220, 284, 1210, 1184, 1184, 1210]\n"
     ]
    }
   ],
   "source": [
    " \n",
    "num = [None]*10000\n",
    "amy = []\n",
    "n = 2\n",
    "while n < 2311:\n",
    "    m = friend(n)\n",
    "    if friend(m) == n and m != n:\n",
    "        amy.append(m)\n",
    "        amy.append(n)\n",
    "    n += 1\n",
    "print(amy)\n"
   ]
  },
  {
   "cell_type": "code",
   "execution_count": 35,
   "metadata": {},
   "outputs": [
    {
     "data": {
      "text/plain": [
       "6368"
      ]
     },
     "execution_count": 35,
     "metadata": {},
     "output_type": "execute_result"
    }
   ],
   "source": [
    "friend(6232)"
   ]
  },
  {
   "cell_type": "code",
   "execution_count": null,
   "metadata": {},
   "outputs": [],
   "source": [
    "n"
   ]
  },
  {
   "cell_type": "code",
   "execution_count": null,
   "metadata": {},
   "outputs": [],
   "source": [
    "oddplist(2311)"
   ]
  },
  {
   "cell_type": "code",
   "execution_count": null,
   "metadata": {},
   "outputs": [],
   "source": [
    "sqrt()"
   ]
  },
  {
   "cell_type": "code",
   "execution_count": 48,
   "metadata": {},
   "outputs": [
    {
     "data": {
      "text/plain": [
       "31626"
      ]
     },
     "execution_count": 48,
     "metadata": {},
     "output_type": "execute_result"
    }
   ],
   "source": [
    "220+284+1184+1210+2620+2924+5020+5564+6232+6368"
   ]
  },
  {
   "cell_type": "code",
   "execution_count": null,
   "metadata": {},
   "outputs": [],
   "source": []
  }
 ],
 "metadata": {
  "kernelspec": {
   "display_name": "Python 3",
   "language": "python",
   "name": "python3"
  },
  "language_info": {
   "codemirror_mode": {
    "name": "ipython",
    "version": 3
   },
   "file_extension": ".py",
   "mimetype": "text/x-python",
   "name": "python",
   "nbconvert_exporter": "python",
   "pygments_lexer": "ipython3",
   "version": "3.6.5"
  }
 },
 "nbformat": 4,
 "nbformat_minor": 2
}
