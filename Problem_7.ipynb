{
 "cells": [
  {
   "cell_type": "code",
   "execution_count": 222,
   "metadata": {},
   "outputs": [],
   "source": [
    "import math"
   ]
  },
  {
   "cell_type": "code",
   "execution_count": 225,
   "metadata": {},
   "outputs": [],
   "source": [
    "def checkp(n):\n",
    "    if n == 1:\n",
    "        return False\n",
    "    elif n == 2:\n",
    "        return True\n",
    "    else:\n",
    "        m = int(math.ceil(math.sqrt(n)))\n",
    "    \n",
    "        for i in range (2,m+1):\n",
    "            if n%i == 0:\n",
    "                return False\n",
    "                break\n",
    "        else:\n",
    "            return True\n",
    "           \n",
    "\n",
    "    "
   ]
  },
  {
   "cell_type": "code",
   "execution_count": 239,
   "metadata": {},
   "outputs": [
    {
     "name": "stdout",
     "output_type": "stream",
     "text": [
      "104729\n"
     ]
    }
   ],
   "source": [
    "count = 2\n",
    "n = 3   \n",
    "while count < 10001 :\n",
    "    if checkp(n):\n",
    "        count += 1\n",
    "    n +=2\n",
    "print(n-2)"
   ]
  },
  {
   "cell_type": "code",
   "execution_count": 229,
   "metadata": {},
   "outputs": [
    {
     "name": "stdout",
     "output_type": "stream",
     "text": [
      "31\n",
      "CPU times: user 179 ms, sys: 4.03 ms, total: 183 ms\n",
      "Wall time: 182 ms\n"
     ]
    }
   ],
   "source": [
    "\n",
    "%%time \n",
    "n = 200000\n",
    "\n",
    "pf = [2]\n",
    "for x in range (3,n,2):\n",
    "    if len(pf) >= 10001:\n",
    "        break\n",
    "    else:\n",
    "        for i in pf: \n",
    "            if x%i == 0:\n",
    "                break\n",
    "            elif i*i > x:\n",
    "                pf.append(x)\n",
    "                break\n",
    "\n",
    "        \n",
    "print(pf[10])\n",
    "len(pf)\n"
   ]
  },
  {
   "cell_type": "code",
   "execution_count": 199,
   "metadata": {},
   "outputs": [
    {
     "name": "stdout",
     "output_type": "stream",
     "text": [
      "[2, 3, 4, 5, 6, 7, 8, 9, 10, 11, 12, 13, 14]\n"
     ]
    },
    {
     "data": {
      "text/plain": [
       "13"
      ]
     },
     "execution_count": 199,
     "metadata": {},
     "output_type": "execute_result"
    }
   ],
   "source": [
    "pf = [2]\n",
    "for x in range (3,15):\n",
    "    \n",
    "    for i in pf: \n",
    "        if i*i > x:\n",
    "            pf.append(x)\n",
    "            break\n",
    "    else:\n",
    "        pf.append(x)\n",
    "       \n",
    "        if len(pf) >= 10001:\n",
    "            break\n",
    "print(pf)\n",
    "len(pf)\n",
    "\n"
   ]
  },
  {
   "cell_type": "code",
   "execution_count": 218,
   "metadata": {},
   "outputs": [
    {
     "name": "stdout",
     "output_type": "stream",
     "text": [
      "3\n",
      "5\n",
      "7\n"
     ]
    }
   ],
   "source": [
    "for x in range(3,9,2):\n",
    "    print(x)"
   ]
  },
  {
   "cell_type": "code",
   "execution_count": 11,
   "metadata": {},
   "outputs": [],
   "source": [
    "from math import gcd\n",
    "from math import floor\n",
    "from math import sqrt\n"
   ]
  },
  {
   "cell_type": "code",
   "execution_count": 12,
   "metadata": {},
   "outputs": [
    {
     "data": {
      "text/plain": [
       "10"
      ]
     },
     "execution_count": 12,
     "metadata": {},
     "output_type": "execute_result"
    }
   ],
   "source": [
    "gcd(10,20)"
   ]
  },
  {
   "cell_type": "code",
   "execution_count": 31,
   "metadata": {},
   "outputs": [],
   "source": [
    "def find(s):\n",
    "   \n",
    "    m = 2\n",
    "    while m <= floor(sqrt(s/2)):\n",
    "        if (s/2)%m == 0:\n",
    "            temp = s/(2*m)\n",
    "            while temp % 2 == 0:\n",
    "                temp /= 2\n",
    "            if m%2 == 1:\n",
    "                k = m + 2\n",
    "            else: \n",
    "                k = m + 1\n",
    "            \n",
    "            \n",
    "            while k < 2*m and k < temp :\n",
    "                d = s/(2*m*k)\n",
    "                a = d*(m**2 - (k-m)**2)\n",
    "                b = 2*m*(k-m)*d\n",
    "                c = (m**2 + (k-m)**2)*d\n",
    "                if a**2 + b**2 == c**2:\n",
    "                    return [a,b,c,a*b*c]\n",
    "                k+=2\n",
    "        m+=1"
   ]
  },
  {
   "cell_type": "code",
   "execution_count": 34,
   "metadata": {},
   "outputs": [
    {
     "data": {
      "text/plain": [
       "[3750000000.0, 2000000000.0, 4250000000.0, 3.1875e+28]"
      ]
     },
     "execution_count": 34,
     "metadata": {},
     "output_type": "execute_result"
    }
   ],
   "source": [
    "find(10**10)"
   ]
  },
  {
   "cell_type": "code",
   "execution_count": 3,
   "metadata": {},
   "outputs": [
    {
     "data": {
      "text/plain": [
       "3"
      ]
     },
     "execution_count": 3,
     "metadata": {},
     "output_type": "execute_result"
    }
   ],
   "source": [
    "max(1,2,3)"
   ]
  },
  {
   "cell_type": "code",
   "execution_count": null,
   "metadata": {},
   "outputs": [],
   "source": []
  }
 ],
 "metadata": {
  "kernelspec": {
   "display_name": "Python 3",
   "language": "python",
   "name": "python3"
  },
  "language_info": {
   "codemirror_mode": {
    "name": "ipython",
    "version": 3
   },
   "file_extension": ".py",
   "mimetype": "text/x-python",
   "name": "python",
   "nbconvert_exporter": "python",
   "pygments_lexer": "ipython3",
   "version": "3.6.5"
  }
 },
 "nbformat": 4,
 "nbformat_minor": 2
}
