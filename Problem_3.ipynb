{
 "cells": [
  {
   "cell_type": "code",
   "execution_count": 9,
   "metadata": {},
   "outputs": [],
   "source": [
    "def prime_factor(n):\n",
    "    factor=[]\n",
    "    d=3\n",
    "    while n>1:\n",
    "        while n%2 == 0:\n",
    "            factor.append(2)\n",
    "            n/=2\n",
    "        \n",
    "        while n%d == 0:\n",
    "            factor.append(d)\n",
    "            n/=d\n",
    "        d+=2\n",
    "        if d*d > n:\n",
    "            if n>1:\n",
    "                \n",
    "                factor.append(n)\n",
    "                break\n",
    "    return factor"
   ]
  },
  {
   "cell_type": "code",
   "execution_count": 10,
   "metadata": {},
   "outputs": [],
   "source": [
    "a=9\n",
    "b=9\n",
    "c=9\n"
   ]
  },
  {
   "cell_type": "code",
   "execution_count": 11,
   "metadata": {},
   "outputs": [],
   "source": [
    "m = a*100001 + b*10010 + c*1100"
   ]
  },
  {
   "cell_type": "code",
   "execution_count": 31,
   "metadata": {},
   "outputs": [
    {
     "name": "stdout",
     "output_type": "stream",
     "text": [
      "[3, 3, 3, 7, 11, 13, 37.0]\n",
      "[3, 7, 13]\n"
     ]
    }
   ],
   "source": [
    "odd = prime_factor(m)\n",
    "print(odd)\n",
    "even = odd[1::2]\n",
    "print(even)"
   ]
  },
  {
   "cell_type": "code",
   "execution_count": 32,
   "metadata": {},
   "outputs": [
    {
     "name": "stdout",
     "output_type": "stream",
     "text": [
      "[3, 3, 11, 37.0]\n"
     ]
    }
   ],
   "source": [
    "del(odd[1::2])\n",
    "print(odd)\n",
    "import numpy as np\n"
   ]
  },
  {
   "cell_type": "code",
   "execution_count": 34,
   "metadata": {},
   "outputs": [
    {
     "name": "stdout",
     "output_type": "stream",
     "text": [
      "3663.0\n"
     ]
    },
    {
     "data": {
      "text/plain": [
       "273"
      ]
     },
     "execution_count": 34,
     "metadata": {},
     "output_type": "execute_result"
    }
   ],
   "source": [
    "print(np.prod(odd))\n",
    "np.prod(even)d"
   ]
  },
  {
   "cell_type": "code",
   "execution_count": 22,
   "metadata": {},
   "outputs": [],
   "source": [
    "def prime_factors(n):\n",
    "    \"\"\"Returns all the prime factors of a positive integer\"\"\"\n",
    "    factors = []\n",
    "    d = 2\n",
    "    while n > 1:\n",
    "        while n % d == 0:\n",
    "            factors.append(d)\n",
    "            n /= d\n",
    "        d = d + 1\n",
    "        if d*d > n:\n",
    "            if n > 1: factors.append(n)\n",
    "            break\n",
    "    return factors\n"
   ]
  },
  {
   "cell_type": "code",
   "execution_count": 24,
   "metadata": {},
   "outputs": [
    {
     "data": {
      "text/plain": [
       "[13]"
      ]
     },
     "execution_count": 24,
     "metadata": {},
     "output_type": "execute_result"
    }
   ],
   "source": [
    "prime_factors(13)"
   ]
  },
  {
   "cell_type": "code",
   "execution_count": null,
   "metadata": {},
   "outputs": [],
   "source": []
  }
 ],
 "metadata": {
  "kernelspec": {
   "display_name": "Python 3",
   "language": "python",
   "name": "python3"
  },
  "language_info": {
   "codemirror_mode": {
    "name": "ipython",
    "version": 3
   },
   "file_extension": ".py",
   "mimetype": "text/x-python",
   "name": "python",
   "nbconvert_exporter": "python",
   "pygments_lexer": "ipython3",
   "version": "3.6.5"
  }
 },
 "nbformat": 4,
 "nbformat_minor": 2
}
