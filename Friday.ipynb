class Node:
    def __init__(self, value=None, next=None):
        self.element = value
        self.next = next

    def __str__(self):
        return str(self.element)





node1 = Node(1)
node2 = Node(2)
node1.next = node2



class Vector3(object):
    def __init__(self, args):
        self.x = args[0]
        self.y = args[1]
        self.z = args[2]

    def __repr__(self):
        return "x: {1}, y: {1}, z: {2}".format(self.x, self.y, self.z)

    def __str__(self):
        return "Vector3([{0},{1},{2}])".format(self.x, self.y, self.z)

    def disp(self):
        return [self.x,self.y,self.z]


v = Vector3([1,2,3])
print(v.__repr__())

print('{1} {1}'.format('i','j','k'))




