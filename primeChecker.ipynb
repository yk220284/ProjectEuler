{
 "cells": [
  {
   "cell_type": "code",
   "execution_count": 1,
   "metadata": {},
   "outputs": [],
   "source": [
    "def primeList(n):\n",
    "    list = [2,3]\n",
    "    if n == 1:\n",
    "        return []\n",
    "    if n == 2:\n",
    "        return [2]\n",
    "    if n == 3:\n",
    "        return list\n",
    "    if n > 3 :\n",
    "        k = 5\n",
    "        while k < n:\n",
    "        \n",
    "            if (k+1)%6 == 0 or (k-1)%6 == 0:\n",
    "                for i in list:\n",
    "                    if k%i == 0:\n",
    "                        break\n",
    "                    elif i*i > k:\n",
    "                        list.append(k)\n",
    "                        break\n",
    "            k+=2\n",
    "        return list\n",
    "            "
   ]
  },
  {
   "cell_type": "code",
   "execution_count": 24,
   "metadata": {},
   "outputs": [
    {
     "data": {
      "text/plain": [
       "142913828922"
      ]
     },
     "execution_count": 24,
     "metadata": {},
     "output_type": "execute_result"
    }
   ],
   "source": [
    "sum(primeList(2*10**6))"
   ]
  },
  {
   "cell_type": "code",
   "execution_count": null,
   "metadata": {},
   "outputs": [],
   "source": [
    "def checker(n):\n",
    "    num = [i for i in range (2,n)]\n",
    "    list = [2,3]\n",
    "    if n == 1:\n",
    "        return []\n",
    "    if n == 2:\n",
    "        return [2]\n",
    "    if n == 3:\n",
    "        return list\n",
    "    if n > 3 :\n",
    "        k = 5\n",
    "        while k < n:\n",
    "            if (k+1)%6 == 0 or (k-1)%6 == 0:\n",
    "                for i in list:\n",
    "                    if k%i == 0:\n",
    "                        break\n",
    "                    elif i*i > k:\n",
    "                        list.append(k)\n",
    "                        break\n",
    "            k+=2\n",
    "        return list\n",
    "            \n",
    "            "
   ]
  },
  {
   "cell_type": "code",
   "execution_count": 25,
   "metadata": {},
   "outputs": [],
   "source": [
    "num = [i for i in range (1,n)]\n"
   ]
  },
  {
   "cell_type": "code",
   "execution_count": 28,
   "metadata": {},
   "outputs": [],
   "source": [
    "from math import sqrt"
   ]
  },
  {
   "cell_type": "code",
   "execution_count": 124,
   "metadata": {
    "scrolled": true
   },
   "outputs": [
    {
     "name": "stdout",
     "output_type": "stream",
     "text": [
      "142913828922\n"
     ]
    }
   ],
   "source": [
    "n = 2*10**6\n",
    "num = [True]*n\n",
    "num[0] = False\n",
    "num[1] = False\n",
    "num[2] = True\n",
    "even = 4\n",
    "while even < n:\n",
    "    num[even] = False\n",
    "    even += 2\n",
    "i = 3\n",
    "while i < sqrt(n):  \n",
    "    if num[i] == True:\n",
    "        f = i\n",
    "        while f*i < n:\n",
    "            num[f*i] = False\n",
    "            f += 2\n",
    "    i += 2\n",
    "\n",
    "sum = 2\n",
    "i =  3\n",
    "while i < (len(num)):\n",
    "    if num[i]:\n",
    "        sum += i\n",
    "    i += 2\n",
    "\n",
    "print(sum)\n",
    "    "
   ]
  },
  {
   "cell_type": "code",
   "execution_count": 115,
   "metadata": {},
   "outputs": [],
   "source": [
    "x = [1,2,3]\n",
    "for i in [1,2]:\n",
    "    x.remove(i)"
   ]
  },
  {
   "cell_type": "code",
   "execution_count": 38,
   "metadata": {},
   "outputs": [],
   "source": [
    "num = [i for i in range (2,23)]"
   ]
  },
  {
   "cell_type": "code",
   "execution_count": 39,
   "metadata": {},
   "outputs": [
    {
     "data": {
      "text/plain": [
       "2"
      ]
     },
     "execution_count": 39,
     "metadata": {},
     "output_type": "execute_result"
    }
   ],
   "source": [
    "num[0]"
   ]
  },
  {
   "cell_type": "code",
   "execution_count": 109,
   "metadata": {},
   "outputs": [],
   "source": [
    "list = [True]*10"
   ]
  },
  {
   "cell_type": "code",
   "execution_count": 111,
   "metadata": {},
   "outputs": [
    {
     "data": {
      "text/plain": [
       "True"
      ]
     },
     "execution_count": 111,
     "metadata": {},
     "output_type": "execute_result"
    }
   ],
   "source": [
    "list[9]"
   ]
  },
  {
   "cell_type": "code",
   "execution_count": 2,
   "metadata": {},
   "outputs": [],
   "source": [
    "from math import ceil"
   ]
  },
  {
   "cell_type": "code",
   "execution_count": 11,
   "metadata": {
    "collapsed": true
   },
   "outputs": [
    {
     "name": "stdout",
     "output_type": "stream",
     "text": [
      "1 3\n",
      "2 5\n",
      "3 7\n",
      "5 11\n",
      "6 13\n",
      "8 17\n",
      "9 19\n",
      "11 23\n",
      "14 29\n",
      "15 31\n",
      "18 37\n",
      "20 41\n",
      "21 43\n",
      "23 47\n",
      "26 53\n",
      "29 59\n",
      "30 61\n",
      "33 67\n",
      "35 71\n",
      "36 73\n",
      "39 79\n",
      "41 83\n",
      "44 89\n",
      "48 97\n",
      "50 101\n",
      "51 103\n",
      "53 107\n",
      "54 109\n",
      "56 113\n",
      "63 127\n",
      "65 131\n",
      "68 137\n",
      "69 139\n",
      "74 149\n",
      "75 151\n",
      "78 157\n",
      "81 163\n",
      "83 167\n",
      "86 173\n",
      "89 179\n",
      "90 181\n",
      "95 191\n",
      "96 193\n",
      "98 197\n",
      "99 199\n",
      "4227\n",
      "CPU times: user 4.18 ms, sys: 2.4 ms, total: 6.58 ms\n",
      "Wall time: 4.26 ms\n"
     ]
    }
   ],
   "source": [
    "%%time\n",
    "n =200\n",
    "bound = (n-1)/2\n",
    "si = [True]*ceil(n/2)\n",
    "si[0] = False\n",
    "i = 1\n",
    "while 4*i**2+4*i+1 <  n:\n",
    "    if si[i]==True:\n",
    "        p = 2*i + 1\n",
    "        j= 2*i*(i+1)\n",
    "        \n",
    "        while j <= bound:\n",
    "            si[j] = False\n",
    "            j += 2*i +1\n",
    "    i += 1\n",
    "\n",
    "\n",
    "\"\"\"for i in range (0,len(si)):\n",
    "    print(i,2*i + 1,si[i])\"\"\"\n",
    "\n",
    "sum = 2\n",
    "for i in range (0,len(si)):\n",
    "    if si[i]:\n",
    "        print(i,2*i + 1)\n",
    "        sum += 2*i + 1\n",
    "\n",
    "print(sum)\n",
    "    \n",
    "\n",
    "        \n"
   ]
  },
  {
   "cell_type": "code",
   "execution_count": null,
   "metadata": {},
   "outputs": [],
   "source": [
    "primeList(308530853)"
   ]
  },
  {
   "cell_type": "code",
   "execution_count": null,
   "metadata": {},
   "outputs": [],
   "source": []
  }
 ],
 "metadata": {
  "kernelspec": {
   "display_name": "Python 3",
   "language": "python",
   "name": "python3"
  },
  "language_info": {
   "codemirror_mode": {
    "name": "ipython",
    "version": 3
   },
   "file_extension": ".py",
   "mimetype": "text/x-python",
   "name": "python",
   "nbconvert_exporter": "python",
   "pygments_lexer": "ipython3",
   "version": "3.6.5"
  }
 },
 "nbformat": 4,
 "nbformat_minor": 2
}
