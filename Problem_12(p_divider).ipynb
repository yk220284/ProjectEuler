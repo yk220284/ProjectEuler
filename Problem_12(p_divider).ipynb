{
 "cells": [
  {
   "cell_type": "code",
   "execution_count": 1,
   "metadata": {},
   "outputs": [],
   "source": [
    "from math import ceil\n",
    "from math import sqrt"
   ]
  },
  {
   "cell_type": "code",
   "execution_count": 28,
   "metadata": {},
   "outputs": [],
   "source": [
    "def primeDivider(n):\n",
    "    plist = []\n",
    "    \n",
    "    while n%2 == 0:\n",
    "        n /= 2\n",
    "        plist.append(2)\n",
    "        \n",
    "    k = 3   \n",
    "    while n >1 :\n",
    "        while n % k == 0:\n",
    "            n /= k \n",
    "            plist.append(k)\n",
    "\n",
    "        \n",
    "        if k>sqrt(n) and n > 1:\n",
    "            plist.append(n)\n",
    "            break\n",
    "        k += 2\n",
    "\n",
    "    return plist\n",
    "\n",
    "        \n",
    "    \n",
    "\n",
    "  \n"
   ]
  },
  {
   "cell_type": "code",
   "execution_count": 36,
   "metadata": {},
   "outputs": [
    {
     "data": {
      "text/plain": [
       "[2, 3, 3]"
      ]
     },
     "execution_count": 36,
     "metadata": {},
     "output_type": "execute_result"
    }
   ],
   "source": [
    "x = primeDivider(18)"
   ]
  },
  {
   "cell_type": "code",
   "execution_count": null,
   "metadata": {},
   "outputs": [],
   "source": [
    "def phi():\n",
    "    "
   ]
  },
  {
   "cell_type": "code",
   "execution_count": 57,
   "metadata": {},
   "outputs": [],
   "source": [
    "def disp(n):\n",
    "    plist = []\n",
    "    power = []\n",
    "    if n % 2 == 0:\n",
    "        plist.append(2)\n",
    "        count = 0\n",
    "        while n%2 == 0:\n",
    "            n /= 2\n",
    "            count += 1\n",
    "        power.append(count)\n",
    "        \n",
    "        \n",
    "    k = 3   \n",
    "    while n >1 :\n",
    "        if n%k ==0:\n",
    "            plist.append(k)\n",
    "            count = 0\n",
    "            while n % k == 0:\n",
    "                n /= k \n",
    "                count += 1\n",
    "            power.append(count)\n",
    "\n",
    "        \n",
    "        if k>sqrt(n) and n > 1:\n",
    "            plist.append(n)\n",
    "            power.append(1)\n",
    "            break\n",
    "        k += 2\n",
    "\n",
    "    return plist , power\n",
    "    "
   ]
  },
  {
   "cell_type": "code",
   "execution_count": 138,
   "metadata": {},
   "outputs": [
    {
     "name": "stdout",
     "output_type": "stream",
     "text": [
      "[] []\n"
     ]
    }
   ],
   "source": [
    "plist,power = disp(1)\n",
    "print(plist,power)"
   ]
  },
  {
   "cell_type": "code",
   "execution_count": 98,
   "metadata": {},
   "outputs": [],
   "source": [
    "def d(n):    \n",
    "    plist,power = disp(n)\n",
    "    prod = 1\n",
    "    for i in power:\n",
    "        prod *= (1+i)\n",
    "    return prod"
   ]
  },
  {
   "cell_type": "code",
   "execution_count": 125,
   "metadata": {},
   "outputs": [
    {
     "name": "stdout",
     "output_type": "stream",
     "text": [
      "1.0\n"
     ]
    }
   ],
   "source": [
    "i = 1\n",
    "while (d(i)*(i+1)/2) < 5:\n",
    "        print(i*(i+1)/2)\n",
    "        break\n",
    "    \n",
    "    \n",
    "        "
   ]
  },
  {
   "cell_type": "code",
   "execution_count": 120,
   "metadata": {},
   "outputs": [
    {
     "data": {
      "text/plain": [
       "([2, 3, 1940255363782247.0], [34, 1, 1])"
      ]
     },
     "execution_count": 120,
     "metadata": {},
     "output_type": "execute_result"
    }
   ],
   "source": [
    "disp(10**26)"
   ]
  },
  {
   "cell_type": "code",
   "execution_count": 161,
   "metadata": {},
   "outputs": [
    {
     "data": {
      "text/plain": [
       "196"
      ]
     },
     "execution_count": 161,
     "metadata": {},
     "output_type": "execute_result"
    }
   ],
   "source": [
    "i =2*10**6\n",
    "d(i*(i+1)/2)"
   ]
  },
  {
   "cell_type": "code",
   "execution_count": 178,
   "metadata": {},
   "outputs": [
    {
     "name": "stdout",
     "output_type": "stream",
     "text": [
      "76576500.0\n"
     ]
    }
   ],
   "source": [
    "i = 1\n",
    "while i < 2*10**6:\n",
    "    \n",
    "    if i % 2 ==1:\n",
    "        result = d(i)*d((i+1)/2)\n",
    "    else:\n",
    "        result = d(i/2)*d(i+1)\n",
    "    if result >= 500:\n",
    "        print(i*(i+1)/2)\n",
    "        break\n",
    "    i += 1\n",
    "\n"
   ]
  },
  {
   "cell_type": "code",
   "execution_count": null,
   "metadata": {},
   "outputs": [],
   "source": []
  }
 ],
 "metadata": {
  "kernelspec": {
   "display_name": "Python 3",
   "language": "python",
   "name": "python3"
  },
  "language_info": {
   "codemirror_mode": {
    "name": "ipython",
    "version": 3
   },
   "file_extension": ".py",
   "mimetype": "text/x-python",
   "name": "python",
   "nbconvert_exporter": "python",
   "pygments_lexer": "ipython3",
   "version": "3.6.5"
  }
 },
 "nbformat": 4,
 "nbformat_minor": 2
}
